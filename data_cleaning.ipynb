{
 "cells": [
  {
   "cell_type": "code",
   "execution_count": 300,
   "metadata": {},
   "outputs": [],
   "source": [
    "import pandas as pd\n",
    "import numpy as np\n",
    "import csv"
   ]
  },
  {
   "cell_type": "markdown",
   "metadata": {},
   "source": [
    "## Demografia"
   ]
  },
  {
   "cell_type": "code",
   "execution_count": 272,
   "metadata": {},
   "outputs": [],
   "source": [
    "# Verificar Outliers usando Z scores\n",
    "def abs_z_score(column:pd.Series):\n",
    "    return ((column-column.mean())/column.std()).abs()\n",
    "# Verificar Outliers usando o inter-quartile\n",
    "def is_interquartile(column:pd.Series, percentiles=(25,75))->pd.Series:\n",
    "    values = column.sort_values().dropna()\n",
    "    q1,q3 = np.percentile(values, percentiles)\n",
    "    return (column>q1)&(column<q3)"
   ]
  },
  {
   "cell_type": "code",
   "execution_count": 283,
   "metadata": {},
   "outputs": [],
   "source": [
    "demography = pd.read_csv(\"dados/raw/DemographicData_ZCTAs.csv\")\n",
    "demography.drop(columns=[\"Unnamed: 0\"], inplace=True)\n",
    "demography.dropna(inplace=True)\n",
    "# filter_0 = (\n",
    "#     (demography[\"Population_Under5Years\"]==0)&\n",
    "#     (demography[\"Population_10to14Years\"]==0)&\n",
    "#     (demography[\"Population_15to19Years\"]==0)&\n",
    "#     (demography[\"Population_20to24Years\"]==0)&\n",
    "#     (demography[\"Population_25to34Years\"]==0)&\n",
    "#     (demography[\"Population_35to44Years\"]==0)&\n",
    "#     (demography[\"Population_55to59Years\"]==0)&\n",
    "#     (demography[\"Population_45to54Years\"]==0)\n",
    "#     )\n",
    "# # filter_0 = (demography[\"Population_5to9Years\"]==0)&(demography[\"Population_10to14Years\"]==0)\n",
    "# # demography[demography.columns[demography.columns.str.contains(\"Population\")]]==0\n",
    "# # demography = demography[~filter_0]\n",
    "demography = demography[~((demography == 0).astype(int).sum(axis=1)>6)]\n",
    "demography = demography[abs_z_score(demography[\"MedianAgeInYears\"])<3]\n",
    "demography = demography[is_interquartile(demography[\"SexRatio(males per 100 females)\"],percentiles=(0.8,99.2))].sort_values(\"SexRatio(males per 100 females)\")"
   ]
  },
  {
   "cell_type": "code",
   "execution_count": 284,
   "metadata": {},
   "outputs": [],
   "source": [
    "demography.to_csv(\"dados/processed/DemographicData_ZCTAs.csv\", index=False)"
   ]
  },
  {
   "cell_type": "markdown",
   "metadata": {},
   "source": [
    "## Economia"
   ]
  },
  {
   "cell_type": "code",
   "execution_count": 275,
   "metadata": {},
   "outputs": [],
   "source": [
    "economic = pd.read_csv(\"Dados/raw/EconomicData_ZCTAs.csv\")\n",
    "economic.drop(\"Unnamed: 0\", axis=1, inplace=True)\n",
    "economic.drop_duplicates(inplace=True)"
   ]
  },
  {
   "cell_type": "code",
   "execution_count": 276,
   "metadata": {},
   "outputs": [],
   "source": [
    "economic.to_csv(\"dados/processed/EconomicData_ZCTAs.csv\", index=False)"
   ]
  },
  {
   "cell_type": "markdown",
   "metadata": {},
   "source": [
    "## Geocode"
   ]
  },
  {
   "cell_type": "code",
   "execution_count": 292,
   "metadata": {},
   "outputs": [],
   "source": [
    "geocode = pd.read_csv(\"dados/raw/df_geocode.csv\")\n",
    "geocode.drop(columns=[\"Unnamed: 0\"], inplace=True)\n",
    "geocode[\"Zipcode\"]=geocode[\"Address\"].str.extract(\"(\\s([0-9])+$)\")[0].str.strip().astype(str)\n",
    "geocode = geocode[~(geocode[\"Lab Id\"]==\"-2\")]"
   ]
  },
  {
   "cell_type": "code",
   "execution_count": 299,
   "metadata": {},
   "outputs": [],
   "source": [
    "geocode.to_csv(\"dados/processed/LabId_Zipcode.csv\", quoting=csv.QUOTE_NONNUMERIC, index=False)"
   ]
  },
  {
   "cell_type": "markdown",
   "metadata": {},
   "source": [
    "## Test"
   ]
  },
  {
   "cell_type": "code",
   "execution_count": 279,
   "metadata": {},
   "outputs": [],
   "source": [
    "tests = pd.read_csv(\"dados/raw/test_data.csv\")\n",
    "tests.drop_duplicates(inplace=True)\n",
    "tests=tests[~(tests[\"Testing Cost\"]==0)].copy()\n",
    "tests[\"Category\"]=tests[\"Category\"].str.strip()"
   ]
  },
  {
   "cell_type": "code",
   "execution_count": 280,
   "metadata": {},
   "outputs": [],
   "source": [
    "tests.to_csv(\"dados/processed/CodItem_Cost.csv\", index=False)"
   ]
  },
  {
   "cell_type": "markdown",
   "metadata": {},
   "source": [
    "## Transacional"
   ]
  },
  {
   "cell_type": "code",
   "execution_count": 281,
   "metadata": {},
   "outputs": [],
   "source": [
    "transactional = pd.read_csv(\"dados/raw/transactional_data.csv\",sep=\";\", decimal=\",\")\n",
    "transactional = transactional[~(transactional[\"Gender\"]==\"I\")]\n",
    "transactional.drop_duplicates(inplace=True)\n",
    "transactional = transactional[is_interquartile(transactional[\"Testing Cost\"], percentiles=(0.1,99.9))]\n",
    "transactional=transactional[~(transactional[\"Patient Id\"]==\"9999999-1\")]"
   ]
  },
  {
   "cell_type": "code",
   "execution_count": 282,
   "metadata": {},
   "outputs": [],
   "source": [
    "transactional.to_csv(\"dados/processed/transactional_data.csv\",index=False)"
   ]
  }
 ],
 "metadata": {
  "kernelspec": {
   "display_name": "Python 3.10.7 64-bit",
   "language": "python",
   "name": "python3"
  },
  "language_info": {
   "codemirror_mode": {
    "name": "ipython",
    "version": 3
   },
   "file_extension": ".py",
   "mimetype": "text/x-python",
   "name": "python",
   "nbconvert_exporter": "python",
   "pygments_lexer": "ipython3",
   "version": "3.10.7"
  },
  "orig_nbformat": 4,
  "vscode": {
   "interpreter": {
    "hash": "26de051ba29f2982a8de78e945f0abaf191376122a1563185a90213a26c5da77"
   }
  }
 },
 "nbformat": 4,
 "nbformat_minor": 2
}
