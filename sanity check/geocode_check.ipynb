{
 "cells": [
  {
   "cell_type": "code",
   "execution_count": 4,
   "metadata": {},
   "outputs": [],
   "source": [
    "import pandas as pd\n",
    "import plotly.express as px\n",
    "import matplotlib.pyplot as plt"
   ]
  },
  {
   "cell_type": "code",
   "execution_count": 7,
   "metadata": {},
   "outputs": [],
   "source": [
    "geocode = pd.read_csv(\"../dados/raw/df_geocode.csv\")\n",
    "geocode.drop(columns=[\"Unnamed: 0\"], inplace=True)"
   ]
  },
  {
   "cell_type": "markdown",
   "metadata": {},
   "source": [
    "- Verificar o início, fim e amostras aleatorias do dataset."
   ]
  },
  {
   "cell_type": "code",
   "execution_count": 8,
   "metadata": {},
   "outputs": [
    {
     "data": {
      "text/html": [
       "<div>\n",
       "<style scoped>\n",
       "    .dataframe tbody tr th:only-of-type {\n",
       "        vertical-align: middle;\n",
       "    }\n",
       "\n",
       "    .dataframe tbody tr th {\n",
       "        vertical-align: top;\n",
       "    }\n",
       "\n",
       "    .dataframe thead th {\n",
       "        text-align: right;\n",
       "    }\n",
       "</style>\n",
       "<table border=\"1\" class=\"dataframe\">\n",
       "  <thead>\n",
       "    <tr style=\"text-align: right;\">\n",
       "      <th></th>\n",
       "      <th>Lab Id</th>\n",
       "      <th>Address</th>\n",
       "      <th>Location</th>\n",
       "      <th>Zipcode</th>\n",
       "    </tr>\n",
       "  </thead>\n",
       "  <tbody>\n",
       "    <tr>\n",
       "      <th>0</th>\n",
       "      <td>L152</td>\n",
       "      <td>3800 PLEASANT HILL RD STE 1, DULUTH, GA 30096</td>\n",
       "      <td>34.000319,-84.1629724</td>\n",
       "      <td>30096.0</td>\n",
       "    </tr>\n",
       "    <tr>\n",
       "      <th>1</th>\n",
       "      <td>L520</td>\n",
       "      <td>1614 N JAMES ST, ROME, NY 13440</td>\n",
       "      <td>43.2311327,-75.4445363</td>\n",
       "      <td>13440.0</td>\n",
       "    </tr>\n",
       "    <tr>\n",
       "      <th>2</th>\n",
       "      <td>L141</td>\n",
       "      <td>12911 120TH AVE NE STE D60, KIRKLAND, WA 98034</td>\n",
       "      <td>47.7162786,-122.1838152</td>\n",
       "      <td>98034.0</td>\n",
       "    </tr>\n",
       "    <tr>\n",
       "      <th>3</th>\n",
       "      <td>L524</td>\n",
       "      <td>5667 PEACHTREE DUNWOODY RD 250, ATLANTA, GA 30342</td>\n",
       "      <td>33.9093875,-84.3529096</td>\n",
       "      <td>30342.0</td>\n",
       "    </tr>\n",
       "    <tr>\n",
       "      <th>4</th>\n",
       "      <td>L545</td>\n",
       "      <td>1204 IL HWY 164, OQUAWKA, IL 61469</td>\n",
       "      <td>40.9309925,-90.9437598</td>\n",
       "      <td>61469.0</td>\n",
       "    </tr>\n",
       "    <tr>\n",
       "      <th>5</th>\n",
       "      <td>L158</td>\n",
       "      <td>3400 ARAMINGO AVE STE 4, PHILADELPHIA, PA 19134\\n</td>\n",
       "      <td>39.9924717,-75.1035442</td>\n",
       "      <td>9134.0</td>\n",
       "    </tr>\n",
       "    <tr>\n",
       "      <th>6</th>\n",
       "      <td>L172</td>\n",
       "      <td>1129 HOSPITAL DR STE 5E, STOCKBRIDGE, GA 30281</td>\n",
       "      <td>33.5113314,-84.2316312</td>\n",
       "      <td>30281.0</td>\n",
       "    </tr>\n",
       "    <tr>\n",
       "      <th>7</th>\n",
       "      <td>L518</td>\n",
       "      <td>1763 SANTA RITA ROAD, PLEASANTON, CA 94566</td>\n",
       "      <td>37.6759064,-121.8772172</td>\n",
       "      <td>94566.0</td>\n",
       "    </tr>\n",
       "    <tr>\n",
       "      <th>8</th>\n",
       "      <td>L531</td>\n",
       "      <td>5860 OWENS DR. SUITE 120, PLEASANTON, CA 94588</td>\n",
       "      <td>37.6993,-121.9014055</td>\n",
       "      <td>94588.0</td>\n",
       "    </tr>\n",
       "    <tr>\n",
       "      <th>9</th>\n",
       "      <td>L160</td>\n",
       "      <td>135 BROADWAY, LAWRENCE, MA 01840</td>\n",
       "      <td>42.7065088,-71.171084</td>\n",
       "      <td>1840.0</td>\n",
       "    </tr>\n",
       "  </tbody>\n",
       "</table>\n",
       "</div>"
      ],
      "text/plain": [
       "  Lab Id                                            Address  \\\n",
       "0   L152      3800 PLEASANT HILL RD STE 1, DULUTH, GA 30096   \n",
       "1   L520                    1614 N JAMES ST, ROME, NY 13440   \n",
       "2   L141     12911 120TH AVE NE STE D60, KIRKLAND, WA 98034   \n",
       "3   L524  5667 PEACHTREE DUNWOODY RD 250, ATLANTA, GA 30342   \n",
       "4   L545                 1204 IL HWY 164, OQUAWKA, IL 61469   \n",
       "5   L158  3400 ARAMINGO AVE STE 4, PHILADELPHIA, PA 19134\\n   \n",
       "6   L172     1129 HOSPITAL DR STE 5E, STOCKBRIDGE, GA 30281   \n",
       "7   L518         1763 SANTA RITA ROAD, PLEASANTON, CA 94566   \n",
       "8   L531     5860 OWENS DR. SUITE 120, PLEASANTON, CA 94588   \n",
       "9   L160                   135 BROADWAY, LAWRENCE, MA 01840   \n",
       "\n",
       "                  Location  Zipcode  \n",
       "0    34.000319,-84.1629724  30096.0  \n",
       "1   43.2311327,-75.4445363  13440.0  \n",
       "2  47.7162786,-122.1838152  98034.0  \n",
       "3   33.9093875,-84.3529096  30342.0  \n",
       "4   40.9309925,-90.9437598  61469.0  \n",
       "5   39.9924717,-75.1035442   9134.0  \n",
       "6   33.5113314,-84.2316312  30281.0  \n",
       "7  37.6759064,-121.8772172  94566.0  \n",
       "8     37.6993,-121.9014055  94588.0  \n",
       "9    42.7065088,-71.171084   1840.0  "
      ]
     },
     "execution_count": 8,
     "metadata": {},
     "output_type": "execute_result"
    }
   ],
   "source": [
    "geocode.head(10)"
   ]
  },
  {
   "cell_type": "code",
   "execution_count": 9,
   "metadata": {},
   "outputs": [
    {
     "data": {
      "text/html": [
       "<div>\n",
       "<style scoped>\n",
       "    .dataframe tbody tr th:only-of-type {\n",
       "        vertical-align: middle;\n",
       "    }\n",
       "\n",
       "    .dataframe tbody tr th {\n",
       "        vertical-align: top;\n",
       "    }\n",
       "\n",
       "    .dataframe thead th {\n",
       "        text-align: right;\n",
       "    }\n",
       "</style>\n",
       "<table border=\"1\" class=\"dataframe\">\n",
       "  <thead>\n",
       "    <tr style=\"text-align: right;\">\n",
       "      <th></th>\n",
       "      <th>Lab Id</th>\n",
       "      <th>Address</th>\n",
       "      <th>Location</th>\n",
       "      <th>Zipcode</th>\n",
       "    </tr>\n",
       "  </thead>\n",
       "  <tbody>\n",
       "    <tr>\n",
       "      <th>109</th>\n",
       "      <td>L161</td>\n",
       "      <td>1904 GENESEE ST, UTICA, NY 13502</td>\n",
       "      <td>43.0879409,-75.2624454</td>\n",
       "      <td>13502.0</td>\n",
       "    </tr>\n",
       "    <tr>\n",
       "      <th>110</th>\n",
       "      <td>L075</td>\n",
       "      <td>2300 S BROAD ST STE 102, PHILADELPHIA, PA 19145</td>\n",
       "      <td>39.9218172,-75.1730023</td>\n",
       "      <td>19145.0</td>\n",
       "    </tr>\n",
       "    <tr>\n",
       "      <th>111</th>\n",
       "      <td>L668</td>\n",
       "      <td>975 JOHNSON FERRY RD NE 320, ATLANTA, GA 30342</td>\n",
       "      <td>33.9073497,-84.3581189</td>\n",
       "      <td>30342.0</td>\n",
       "    </tr>\n",
       "    <tr>\n",
       "      <th>112</th>\n",
       "      <td>L140</td>\n",
       "      <td>11800 NE 128TH ST 130, KIRKLAND, WA 98034</td>\n",
       "      <td>47.7148568,-122.1866063</td>\n",
       "      <td>98034.0</td>\n",
       "    </tr>\n",
       "    <tr>\n",
       "      <th>113</th>\n",
       "      <td>L071</td>\n",
       "      <td>9633 LEVIN RD NW 202, SILVERDALE, WA 98383</td>\n",
       "      <td>47.6516517,-122.687053</td>\n",
       "      <td>98383.0</td>\n",
       "    </tr>\n",
       "    <tr>\n",
       "      <th>114</th>\n",
       "      <td>L886</td>\n",
       "      <td>1819 MARLTON PIKE W., CHERRY HILL, NJ 08002</td>\n",
       "      <td>39.9184081,-75.035649</td>\n",
       "      <td>8002.0</td>\n",
       "    </tr>\n",
       "    <tr>\n",
       "      <th>115</th>\n",
       "      <td>L535</td>\n",
       "      <td>603 SENECA ST 4, ONEIDA, NY 13421</td>\n",
       "      <td>43.0773695,-75.6536905</td>\n",
       "      <td>13421.0</td>\n",
       "    </tr>\n",
       "    <tr>\n",
       "      <th>116</th>\n",
       "      <td>L723</td>\n",
       "      <td>8052 STATE ROUTE 12, BARNEVELD, NY 13304</td>\n",
       "      <td>43.2530101,-75.1860015</td>\n",
       "      <td>13304.0</td>\n",
       "    </tr>\n",
       "    <tr>\n",
       "      <th>117</th>\n",
       "      <td>L163</td>\n",
       "      <td>3906 LILLIE AVE STE 3, DAVENPORT, IA 52806</td>\n",
       "      <td>41.5611182,-90.5915183</td>\n",
       "      <td>52806.0</td>\n",
       "    </tr>\n",
       "    <tr>\n",
       "      <th>118</th>\n",
       "      <td>L967</td>\n",
       "      <td>2700 GRANT ST. SUITE 107, CONCORD, CA 94520</td>\n",
       "      <td>37.984716,-122.0383645</td>\n",
       "      <td>94520.0</td>\n",
       "    </tr>\n",
       "  </tbody>\n",
       "</table>\n",
       "</div>"
      ],
      "text/plain": [
       "    Lab Id                                          Address  \\\n",
       "109   L161                 1904 GENESEE ST, UTICA, NY 13502   \n",
       "110   L075  2300 S BROAD ST STE 102, PHILADELPHIA, PA 19145   \n",
       "111   L668   975 JOHNSON FERRY RD NE 320, ATLANTA, GA 30342   \n",
       "112   L140        11800 NE 128TH ST 130, KIRKLAND, WA 98034   \n",
       "113   L071       9633 LEVIN RD NW 202, SILVERDALE, WA 98383   \n",
       "114   L886      1819 MARLTON PIKE W., CHERRY HILL, NJ 08002   \n",
       "115   L535                603 SENECA ST 4, ONEIDA, NY 13421   \n",
       "116   L723         8052 STATE ROUTE 12, BARNEVELD, NY 13304   \n",
       "117   L163       3906 LILLIE AVE STE 3, DAVENPORT, IA 52806   \n",
       "118   L967      2700 GRANT ST. SUITE 107, CONCORD, CA 94520   \n",
       "\n",
       "                    Location  Zipcode  \n",
       "109   43.0879409,-75.2624454  13502.0  \n",
       "110   39.9218172,-75.1730023  19145.0  \n",
       "111   33.9073497,-84.3581189  30342.0  \n",
       "112  47.7148568,-122.1866063  98034.0  \n",
       "113   47.6516517,-122.687053  98383.0  \n",
       "114    39.9184081,-75.035649   8002.0  \n",
       "115   43.0773695,-75.6536905  13421.0  \n",
       "116   43.2530101,-75.1860015  13304.0  \n",
       "117   41.5611182,-90.5915183  52806.0  \n",
       "118   37.984716,-122.0383645  94520.0  "
      ]
     },
     "execution_count": 9,
     "metadata": {},
     "output_type": "execute_result"
    }
   ],
   "source": [
    "geocode[-10:].head(10)"
   ]
  },
  {
   "cell_type": "code",
   "execution_count": 10,
   "metadata": {},
   "outputs": [
    {
     "data": {
      "text/html": [
       "<div>\n",
       "<style scoped>\n",
       "    .dataframe tbody tr th:only-of-type {\n",
       "        vertical-align: middle;\n",
       "    }\n",
       "\n",
       "    .dataframe tbody tr th {\n",
       "        vertical-align: top;\n",
       "    }\n",
       "\n",
       "    .dataframe thead th {\n",
       "        text-align: right;\n",
       "    }\n",
       "</style>\n",
       "<table border=\"1\" class=\"dataframe\">\n",
       "  <thead>\n",
       "    <tr style=\"text-align: right;\">\n",
       "      <th></th>\n",
       "      <th>Lab Id</th>\n",
       "      <th>Address</th>\n",
       "      <th>Location</th>\n",
       "      <th>Zipcode</th>\n",
       "    </tr>\n",
       "  </thead>\n",
       "  <tbody>\n",
       "    <tr>\n",
       "      <th>49</th>\n",
       "      <td>L126</td>\n",
       "      <td>5349 OXFORD AVE UNIT B, PHILADELPHIA, PA 19124</td>\n",
       "      <td>40.0294758,-75.0869837</td>\n",
       "      <td>19124.0</td>\n",
       "    </tr>\n",
       "    <tr>\n",
       "      <th>14</th>\n",
       "      <td>L153</td>\n",
       "      <td>790 CHURCH ST NE SUITE 505, MARIETTA, GA 30060</td>\n",
       "      <td>33.9710116,-84.5511075</td>\n",
       "      <td>30060.0</td>\n",
       "    </tr>\n",
       "    <tr>\n",
       "      <th>75</th>\n",
       "      <td>L660</td>\n",
       "      <td>49 RANGE RD STE 101, WINDHAM, NH 03087</td>\n",
       "      <td>42.8075256,-71.2622671</td>\n",
       "      <td>3087.0</td>\n",
       "    </tr>\n",
       "    <tr>\n",
       "      <th>46</th>\n",
       "      <td>L155</td>\n",
       "      <td>2400 Balfour Rd #100, Brentwood, CA 94513</td>\n",
       "      <td>37.9242863,-121.7371186</td>\n",
       "      <td>94513.0</td>\n",
       "    </tr>\n",
       "    <tr>\n",
       "      <th>83</th>\n",
       "      <td>-2</td>\n",
       "      <td>Unavailable</td>\n",
       "      <td>Unavailable</td>\n",
       "      <td>NaN</td>\n",
       "    </tr>\n",
       "    <tr>\n",
       "      <th>0</th>\n",
       "      <td>L152</td>\n",
       "      <td>3800 PLEASANT HILL RD STE 1, DULUTH, GA 30096</td>\n",
       "      <td>34.000319,-84.1629724</td>\n",
       "      <td>30096.0</td>\n",
       "    </tr>\n",
       "    <tr>\n",
       "      <th>60</th>\n",
       "      <td>L523</td>\n",
       "      <td>245 N BROAD ST GROUND FLOOR, PHILADELPHIA, PA ...</td>\n",
       "      <td>39.957358,-75.1642512</td>\n",
       "      <td>9107.0</td>\n",
       "    </tr>\n",
       "    <tr>\n",
       "      <th>106</th>\n",
       "      <td>L064</td>\n",
       "      <td>1288 WELLBROOK CIR NE SUITE C, CONYERS, GA 30012</td>\n",
       "      <td>33.677914,-84.00695</td>\n",
       "      <td>30012.0</td>\n",
       "    </tr>\n",
       "    <tr>\n",
       "      <th>17</th>\n",
       "      <td>L070</td>\n",
       "      <td>150 N. MCDADE BLVD., GLENOLDEN, PA 19036</td>\n",
       "      <td>39.9076973,-75.289741</td>\n",
       "      <td>19036.0</td>\n",
       "    </tr>\n",
       "    <tr>\n",
       "      <th>22</th>\n",
       "      <td>L534</td>\n",
       "      <td>550 PEACHTREE ST NE 1460, ATLANTA, GA 30308</td>\n",
       "      <td>33.7681453,-84.388286</td>\n",
       "      <td>30308.0</td>\n",
       "    </tr>\n",
       "  </tbody>\n",
       "</table>\n",
       "</div>"
      ],
      "text/plain": [
       "    Lab Id                                            Address  \\\n",
       "49    L126     5349 OXFORD AVE UNIT B, PHILADELPHIA, PA 19124   \n",
       "14    L153     790 CHURCH ST NE SUITE 505, MARIETTA, GA 30060   \n",
       "75    L660             49 RANGE RD STE 101, WINDHAM, NH 03087   \n",
       "46    L155          2400 Balfour Rd #100, Brentwood, CA 94513   \n",
       "83      -2                                        Unavailable   \n",
       "0     L152      3800 PLEASANT HILL RD STE 1, DULUTH, GA 30096   \n",
       "60    L523  245 N BROAD ST GROUND FLOOR, PHILADELPHIA, PA ...   \n",
       "106   L064   1288 WELLBROOK CIR NE SUITE C, CONYERS, GA 30012   \n",
       "17    L070           150 N. MCDADE BLVD., GLENOLDEN, PA 19036   \n",
       "22    L534        550 PEACHTREE ST NE 1460, ATLANTA, GA 30308   \n",
       "\n",
       "                    Location  Zipcode  \n",
       "49    40.0294758,-75.0869837  19124.0  \n",
       "14    33.9710116,-84.5511075  30060.0  \n",
       "75    42.8075256,-71.2622671   3087.0  \n",
       "46   37.9242863,-121.7371186  94513.0  \n",
       "83               Unavailable      NaN  \n",
       "0      34.000319,-84.1629724  30096.0  \n",
       "60     39.957358,-75.1642512   9107.0  \n",
       "106      33.677914,-84.00695  30012.0  \n",
       "17     39.9076973,-75.289741  19036.0  \n",
       "22     33.7681453,-84.388286  30308.0  "
      ]
     },
     "execution_count": 10,
     "metadata": {},
     "output_type": "execute_result"
    }
   ],
   "source": [
    "geocode.sample(10)"
   ]
  },
  {
   "cell_type": "markdown",
   "metadata": {},
   "source": [
    "- Verificar erros de tipo"
   ]
  },
  {
   "cell_type": "code",
   "execution_count": 11,
   "metadata": {},
   "outputs": [
    {
     "data": {
      "text/plain": [
       "Lab Id       object\n",
       "Address      object\n",
       "Location     object\n",
       "Zipcode     float64\n",
       "dtype: object"
      ]
     },
     "execution_count": 11,
     "metadata": {},
     "output_type": "execute_result"
    }
   ],
   "source": [
    "geocode.dtypes"
   ]
  },
  {
   "cell_type": "markdown",
   "metadata": {},
   "source": [
    "- Analisar taxa de entradas nulas."
   ]
  },
  {
   "cell_type": "code",
   "execution_count": 12,
   "metadata": {},
   "outputs": [
    {
     "data": {
      "text/plain": [
       "Lab Id      0.000000\n",
       "Address     0.000000\n",
       "Location    0.000000\n",
       "Zipcode     0.008475\n",
       "dtype: float64"
      ]
     },
     "execution_count": 12,
     "metadata": {},
     "output_type": "execute_result"
    }
   ],
   "source": [
    "geocode.isna().sum()/geocode.count()"
   ]
  },
  {
   "cell_type": "markdown",
   "metadata": {},
   "source": [
    "- Analisar número de tokens, em caso de texto."
   ]
  },
  {
   "cell_type": "code",
   "execution_count": 18,
   "metadata": {},
   "outputs": [
    {
     "data": {
      "image/png": "[encoded data removed]",
      "text/plain": [
       "<Figure size 640x480 with 1 Axes>"
      ]
     },
     "metadata": {},
     "output_type": "display_data"
    }
   ],
   "source": [
    "# Verificando distribuição dos tokens\n",
    "# Verificando o numero de tokens em cada endereco\n",
    "geocode[\"num_tokens\"]=geocode[\"Address\"].str.split().str.len()\n",
    "geocode[\"num_tokens\"].hist()\n",
    "plt.show()"
   ]
  },
  {
   "cell_type": "markdown",
   "metadata": {},
   "source": [
    "- Procurar por duplicatas."
   ]
  },
  {
   "cell_type": "code",
   "execution_count": 13,
   "metadata": {},
   "outputs": [
    {
     "name": "stdout",
     "output_type": "stream",
     "text": [
      "ID de laboratporios duplicados:  0\n"
     ]
    }
   ],
   "source": [
    "print(\"ID de laboratporios duplicados: \",geocode.duplicated([\"Lab Id\"]).sum())"
   ]
  },
  {
   "cell_type": "markdown",
   "metadata": {},
   "source": [
    "### Verificando se todos os pontos estão nos Estados Unidos"
   ]
  },
  {
   "cell_type": "code",
   "execution_count": 14,
   "metadata": {},
   "outputs": [],
   "source": [
    "geocode[[\"lat\",\"long\"]] = geocode[\"Location\"].str.split(\",\", expand=True)"
   ]
  },
  {
   "cell_type": "code",
   "execution_count": 17,
   "metadata": {},
   "outputs": [
    {
     "data": {
      "application/vnd.plotly.v1+json": {
       "config": {
        "plotlyServerURL": "https://plot.ly"
       },
       "data": [
        {
         "geo": "geo",
         "hovertemplate": "lat=%{lat}<br>long=%{lon}<extra></extra>",
         "lat": [
          "34.000319",
          "43.2311327",
          "47.7162786",
          "33.9093875",
          "40.9309925",
          "39.9924717",
          "33.5113314",
          "37.6759064",
          "37.6993",
          "42.7065088",
          "37.9115042",
          "39.934946",
          "47.6208696",
          "33.9484477",
          "33.9710116",
          "41.4877432",
          "33.9735891",
          "39.9076973",
          "42.1077525",
          "40.0374664",
          "47.632801",
          "41.8554575",
          "33.7681453",
          "47.7158288",
          "41.497223",
          "33.8254779",
          "42.2653422",
          "39.912442",
          "33.451232",
          "33.732926",
          "41.5694897",
          "37.6822922",
          "40.0021676",
          "47.750593",
          "37.9838036",
          "47.6076339",
          "40.0303647",
          "39.9560828",
          "47.7084091",
          "42.0281344",
          "33.8786308",
          "40.0066857",
          "47.7510662",
          "37.956103",
          "47.8044871",
          "41.5586991",
          "37.9242863",
          "37.9765001",
          "37.7754429",
          "40.0294758",
          "47.6091997",
          "47.6219477",
          "41.5387268",
          "33.4498013",
          "42.7473541",
          "43.1014617",
          "37.7990818",
          "39.9495713",
          "42.8166911",
          "42.1710988",
          "39.957358",
          "37.9694792",
          "43.1201376",
          "47.4568023",
          "43.0978638",
          "33.451232",
          "33.7943032",
          "37.7754429",
          "42.276897",
          "42.300344",
          "40.7447179",
          "47.760574",
          "40.0173148",
          "39.9213919",
          "41.466876",
          "42.8075256",
          "43.2272241",
          "42.8213859",
          "42.2493985",
          "37.9553785",
          "43.0731473",
          "38.4634804",
          "34.0708467",
          "Unavailable",
          "42.775748",
          "39.9507025",
          "47.8026806",
          "42.8073225",
          "37.6762783",
          "33.8473632",
          "42.2607878",
          "47.6821988",
          "47.4585122",
          "42.1146632",
          "47.6674625",
          "43.0150099",
          "38.0070008",
          "39.9130589",
          "37.7762785",
          "42.247582",
          "47.6100869",
          "43.1636949",
          "33.5774091",
          "39.9290428",
          "41.4352418",
          "34.1054485",
          "33.677914",
          "39.9457889",
          "42.3020867",
          "43.0879409",
          "39.9218172",
          "33.9073497",
          "47.7148568",
          "47.6516517",
          "39.9184081",
          "43.0773695",
          "43.2530101",
          "41.5611182",
          "37.984716"
         ],
         "legendgroup": "",
         "lon": [
          "-84.1629724",
          "-75.4445363",
          "-122.1838152",
          "-84.3529096",
          "-90.9437598",
          "-75.1035442",
          "-84.2316312",
          "-121.8772172",
          "-121.9014055",
          "-71.171084",
          "-122.0444705",
          "-75.0669325",
          "-122.1889933",
          "-84.3369582",
          "-84.5511075",
          "-90.4216658",
          "-84.4822033",
          "-75.289741",
          "-70.7667516",
          "-75.1206684",
          "-122.1330652",
          "-89.489907",
          "-84.388286",
          "-122.180939",
          "-90.5296326",
          "-84.2571003",
          "-71.7927896",
          "-75.0583428",
          "-94.0683805",
          "-84.6724126",
          "-90.5271587",
          "-121.8756054",
          "-75.2825227",
          "-122.154299",
          "-122.0360361",
          "-122.3123067",
          "-75.1834481",
          "-75.1987675",
          "-122.335505",
          "-71.31267",
          "-84.0214922",
          "-75.2190999",
          "-122.6477891",
          "-121.9694513",
          "-122.2090808",
          "-90.518775",
          "-121.7371186",
          "-121.8012144",
          "-121.9669886",
          "-75.0869837",
          "-122.3262981",
          "-122.1870553",
          "-90.5511836",
          "-84.508719",
          "-71.1313972",
          "-76.060889",
          "-121.9166879",
          "-75.1567543",
          "-71.5409322",
          "-70.9577834",
          "-75.1642512",
          "-121.2901678",
          "-76.1627233",
          "-122.3457174",
          "-75.3055966",
          "-94.0683805",
          "-84.2778831",
          "-121.9669886",
          "-71.4160299",
          "-71.8038673",
          "-90.9114665",
          "-122.2527338",
          "-75.1509415",
          "-75.2561934",
          "-90.5478657",
          "-71.2622671",
          "-75.4323824",
          "-70.9065276",
          "-84.4259382",
          "-122.0411404",
          "-75.2957098",
          "-121.416546",
          "-84.3000492",
          null,
          "-71.2495637",
          "-75.2286725",
          "-122.3389483",
          "-71.2650041",
          "-121.7853993",
          "-84.5065753",
          "-83.7391191",
          "-122.1259728",
          "-122.3370864",
          "-71.463432",
          "-122.3817193",
          "-75.0398441",
          "-121.868574",
          "-75.1518927",
          "-121.9679406",
          "-70.9842195",
          "-122.3243021",
          "-76.2366636",
          "-84.3944193",
          "-75.170544",
          "-91.0759938",
          "-84.5409941",
          "-84.00695",
          "-75.1533585",
          "-71.407008",
          "-75.2624454",
          "-75.1730023",
          "-84.3581189",
          "-122.1866063",
          "-122.687053",
          "-75.035649",
          "-75.6536905",
          "-75.1860015",
          "-90.5915183",
          "-122.0383645"
         ],
         "marker": {
          "color": "#636efa",
          "symbol": "circle"
         },
         "mode": "markers",
         "name": "",
         "showlegend": false,
         "type": "scattergeo"
        }
       ],
       "layout": {
        "geo": {
         "center": {},
         "domain": {
          "x": [
           0,
           1
          ],
          "y": [
           0,
           1
          ]
         }
        },
        "legend": {
         "tracegroupgap": 0
        },
        "margin": {
         "t": 60
        },
        "template": {
         "data": {
          "bar": [
           {
            "error_x": {
             "color": "#2a3f5f"
            },
            "error_y": {
             "color": "#2a3f5f"
            },
            "marker": {
             "line": {
              "color": "#E5ECF6",
              "width": 0.5
             },
             "pattern": {
              "fillmode": "overlay",
              "size": 10,
              "solidity": 0.2
             }
            },
            "type": "bar"
           }
          ],
          "barpolar": [
           {
            "marker": {
             "line": {
              "color": "#E5ECF6",
              "width": 0.5
             },
             "pattern": {
              "fillmode": "overlay",
              "size": 10,
              "solidity": 0.2
             }
            },
            "type": "barpolar"
           }
          ],
          "carpet": [
           {
            "aaxis": {
             "endlinecolor": "#2a3f5f",
             "gridcolor": "white",
             "linecolor": "white",
             "minorgridcolor": "white",
             "startlinecolor": "#2a3f5f"
            },
            "baxis": {
             "endlinecolor": "#2a3f5f",
             "gridcolor": "white",
             "linecolor": "white",
             "minorgridcolor": "white",
             "startlinecolor": "#2a3f5f"
            },
            "type": "carpet"
           }
          ],
          "choropleth": [
           {
            "colorbar": {
             "outlinewidth": 0,
             "ticks": ""
            },
            "type": "choropleth"
           }
          ],
          "contour": [
           {
            "colorbar": {
             "outlinewidth": 0,
             "ticks": ""
            },
            "colorscale": [
             [
              0,
              "#0d0887"
             ],
             [
              0.1111111111111111,
              "#46039f"
             ],
             [
              0.2222222222222222,
              "#7201a8"
             ],
             [
              0.3333333333333333,
              "#9c179e"
             ],
             [
              0.4444444444444444,
              "#bd3786"
             ],
             [
              0.5555555555555556,
              "#d8576b"
             ],
             [
              0.6666666666666666,
              "#ed7953"
             ],
             [
              0.7777777777777778,
              "#fb9f3a"
             ],
             [
              0.8888888888888888,
              "#fdca26"
             ],
             [
              1,
              "#f0f921"
             ]
            ],
            "type": "contour"
           }
          ],
          "contourcarpet": [
           {
            "colorbar": {
             "outlinewidth": 0,
             "ticks": ""
            },
            "type": "contourcarpet"
           }
          ],
          "heatmap": [
           {
            "colorbar": {
             "outlinewidth": 0,
             "ticks": ""
            },
            "colorscale": [
             [
              0,
              "#0d0887"
             ],
             [
              0.1111111111111111,
              "#46039f"
             ],
             [
              0.2222222222222222,
              "#7201a8"
             ],
             [
              0.3333333333333333,
              "#9c179e"
             ],
             [
              0.4444444444444444,
              "#bd3786"
             ],
             [
              0.5555555555555556,
              "#d8576b"
             ],
             [
              0.6666666666666666,
              "#ed7953"
             ],
             [
              0.7777777777777778,
              "#fb9f3a"
             ],
             [
              0.8888888888888888,
              "#fdca26"
             ],
             [
              1,
              "#f0f921"
             ]
            ],
            "type": "heatmap"
           }
          ],
          "heatmapgl": [
           {
            "colorbar": {
             "outlinewidth": 0,
             "ticks": ""
            },
            "colorscale": [
             [
              0,
              "#0d0887"
             ],
             [
              0.1111111111111111,
              "#46039f"
             ],
             [
              0.2222222222222222,
              "#7201a8"
             ],
             [
              0.3333333333333333,
              "#9c179e"
             ],
             [
              0.4444444444444444,
              "#bd3786"
             ],
             [
              0.5555555555555556,
              "#d8576b"
             ],
             [
              0.6666666666666666,
              "#ed7953"
             ],
             [
              0.7777777777777778,
              "#fb9f3a"
             ],
             [
              0.8888888888888888,
              "#fdca26"
             ],
             [
              1,
              "#f0f921"
             ]
            ],
            "type": "heatmapgl"
           }
          ],
          "histogram": [
           {
            "marker": {
             "pattern": {
              "fillmode": "overlay",
              "size": 10,
              "solidity": 0.2
             }
            },
            "type": "histogram"
           }
          ],
          "histogram2d": [
           {
            "colorbar": {
             "outlinewidth": 0,
             "ticks": ""
            },
            "colorscale": [
             [
              0,
              "#0d0887"
             ],
             [
              0.1111111111111111,
              "#46039f"
             ],
             [
              0.2222222222222222,
              "#7201a8"
             ],
             [
              0.3333333333333333,
              "#9c179e"
             ],
             [
              0.4444444444444444,
              "#bd3786"
             ],
             [
              0.5555555555555556,
              "#d8576b"
             ],
             [
              0.6666666666666666,
              "#ed7953"
             ],
             [
              0.7777777777777778,
              "#fb9f3a"
             ],
             [
              0.8888888888888888,
              "#fdca26"
             ],
             [
              1,
              "#f0f921"
             ]
            ],
            "type": "histogram2d"
           }
          ],
          "histogram2dcontour": [
           {
            "colorbar": {
             "outlinewidth": 0,
             "ticks": ""
            },
            "colorscale": [
             [
              0,
              "#0d0887"
             ],
             [
              0.1111111111111111,
              "#46039f"
             ],
             [
              0.2222222222222222,
              "#7201a8"
             ],
             [
              0.3333333333333333,
              "#9c179e"
             ],
             [
              0.4444444444444444,
              "#bd3786"
             ],
             [
              0.5555555555555556,
              "#d8576b"
             ],
             [
              0.6666666666666666,
              "#ed7953"
             ],
             [
              0.7777777777777778,
              "#fb9f3a"
             ],
             [
              0.8888888888888888,
              "#fdca26"
             ],
             [
              1,
              "#f0f921"
             ]
            ],
            "type": "histogram2dcontour"
           }
          ],
          "mesh3d": [
           {
            "colorbar": {
             "outlinewidth": 0,
             "ticks": ""
            },
            "type": "mesh3d"
           }
          ],
          "parcoords": [
           {
            "line": {
             "colorbar": {
              "outlinewidth": 0,
              "ticks": ""
             }
            },
            "type": "parcoords"
           }
          ],
          "pie": [
           {
            "automargin": true,
            "type": "pie"
           }
          ],
          "scatter": [
           {
            "fillpattern": {
             "fillmode": "overlay",
             "size": 10,
             "solidity": 0.2
            },
            "type": "scatter"
           }
          ],
          "scatter3d": [
           {
            "line": {
             "colorbar": {
              "outlinewidth": 0,
              "ticks": ""
             }
            },
            "marker": {
             "colorbar": {
              "outlinewidth": 0,
              "ticks": ""
             }
            },
            "type": "scatter3d"
           }
          ],
          "scattercarpet": [
           {
            "marker": {
             "colorbar": {
              "outlinewidth": 0,
              "ticks": ""
             }
            },
            "type": "scattercarpet"
           }
          ],
          "scattergeo": [
           {
            "marker": {
             "colorbar": {
              "outlinewidth": 0,
              "ticks": ""
             }
            },
            "type": "scattergeo"
           }
          ],
          "scattergl": [
           {
            "marker": {
             "colorbar": {
              "outlinewidth": 0,
              "ticks": ""
             }
            },
            "type": "scattergl"
           }
          ],
          "scattermapbox": [
           {
            "marker": {
             "colorbar": {
              "outlinewidth": 0,
              "ticks": ""
             }
            },
            "type": "scattermapbox"
           }
          ],
          "scatterpolar": [
           {
            "marker": {
             "colorbar": {
              "outlinewidth": 0,
              "ticks": ""
             }
            },
            "type": "scatterpolar"
           }
          ],
          "scatterpolargl": [
           {
            "marker": {
             "colorbar": {
              "outlinewidth": 0,
              "ticks": ""
             }
            },
            "type": "scatterpolargl"
           }
          ],
          "scatterternary": [
           {
            "marker": {
             "colorbar": {
              "outlinewidth": 0,
              "ticks": ""
             }
            },
            "type": "scatterternary"
           }
          ],
          "surface": [
           {
            "colorbar": {
             "outlinewidth": 0,
             "ticks": ""
            },
            "colorscale": [
             [
              0,
              "#0d0887"
             ],
             [
              0.1111111111111111,
              "#46039f"
             ],
             [
              0.2222222222222222,
              "#7201a8"
             ],
             [
              0.3333333333333333,
              "#9c179e"
             ],
             [
              0.4444444444444444,
              "#bd3786"
             ],
             [
              0.5555555555555556,
              "#d8576b"
             ],
             [
              0.6666666666666666,
              "#ed7953"
             ],
             [
              0.7777777777777778,
              "#fb9f3a"
             ],
             [
              0.8888888888888888,
              "#fdca26"
             ],
             [
              1,
              "#f0f921"
             ]
            ],
            "type": "surface"
           }
          ],
          "table": [
           {
            "cells": {
             "fill": {
              "color": "#EBF0F8"
             },
             "line": {
              "color": "white"
             }
            },
            "header": {
             "fill": {
              "color": "#C8D4E3"
             },
             "line": {
              "color": "white"
             }
            },
            "type": "table"
           }
          ]
         },
         "layout": {
          "annotationdefaults": {
           "arrowcolor": "#2a3f5f",
           "arrowhead": 0,
           "arrowwidth": 1
          },
          "autotypenumbers": "strict",
          "coloraxis": {
           "colorbar": {
            "outlinewidth": 0,
            "ticks": ""
           }
          },
          "colorscale": {
           "diverging": [
            [
             0,
             "#8e0152"
            ],
            [
             0.1,
             "#c51b7d"
            ],
            [
             0.2,
             "#de77ae"
            ],
            [
             0.3,
             "#f1b6da"
            ],
            [
             0.4,
             "#fde0ef"
            ],
            [
             0.5,
             "#f7f7f7"
            ],
            [
             0.6,
             "#e6f5d0"
            ],
            [
             0.7,
             "#b8e186"
            ],
            [
             0.8,
             "#7fbc41"
            ],
            [
             0.9,
             "#4d9221"
            ],
            [
             1,
             "#276419"
            ]
           ],
           "sequential": [
            [
             0,
             "#0d0887"
            ],
            [
             0.1111111111111111,
             "#46039f"
            ],
            [
             0.2222222222222222,
             "#7201a8"
            ],
            [
             0.3333333333333333,
             "#9c179e"
            ],
            [
             0.4444444444444444,
             "#bd3786"
            ],
            [
             0.5555555555555556,
             "#d8576b"
            ],
            [
             0.6666666666666666,
             "#ed7953"
            ],
            [
             0.7777777777777778,
             "#fb9f3a"
            ],
            [
             0.8888888888888888,
             "#fdca26"
            ],
            [
             1,
             "#f0f921"
            ]
           ],
           "sequentialminus": [
            [
             0,
             "#0d0887"
            ],
            [
             0.1111111111111111,
             "#46039f"
            ],
            [
             0.2222222222222222,
             "#7201a8"
            ],
            [
             0.3333333333333333,
             "#9c179e"
            ],
            [
             0.4444444444444444,
             "#bd3786"
            ],
            [
             0.5555555555555556,
             "#d8576b"
            ],
            [
             0.6666666666666666,
             "#ed7953"
            ],
            [
             0.7777777777777778,
             "#fb9f3a"
            ],
            [
             0.8888888888888888,
             "#fdca26"
            ],
            [
             1,
             "#f0f921"
            ]
           ]
          },
          "colorway": [
           "#636efa",
           "#EF553B",
           "#00cc96",
           "#ab63fa",
           "#FFA15A",
           "#19d3f3",
           "#FF6692",
           "#B6E880",
           "#FF97FF",
           "#FECB52"
          ],
          "font": {
           "color": "#2a3f5f"
          },
          "geo": {
           "bgcolor": "white",
           "lakecolor": "white",
           "landcolor": "#E5ECF6",
           "showlakes": true,
           "showland": true,
           "subunitcolor": "white"
          },
          "hoverlabel": {
           "align": "left"
          },
          "hovermode": "closest",
          "mapbox": {
           "style": "light"
          },
          "paper_bgcolor": "white",
          "plot_bgcolor": "#E5ECF6",
          "polar": {
           "angularaxis": {
            "gridcolor": "white",
            "linecolor": "white",
            "ticks": ""
           },
           "bgcolor": "#E5ECF6",
           "radialaxis": {
            "gridcolor": "white",
            "linecolor": "white",
            "ticks": ""
           }
          },
          "scene": {
           "xaxis": {
            "backgroundcolor": "#E5ECF6",
            "gridcolor": "white",
            "gridwidth": 2,
            "linecolor": "white",
            "showbackground": true,
            "ticks": "",
            "zerolinecolor": "white"
           },
           "yaxis": {
            "backgroundcolor": "#E5ECF6",
            "gridcolor": "white",
            "gridwidth": 2,
            "linecolor": "white",
            "showbackground": true,
            "ticks": "",
            "zerolinecolor": "white"
           },
           "zaxis": {
            "backgroundcolor": "#E5ECF6",
            "gridcolor": "white",
            "gridwidth": 2,
            "linecolor": "white",
            "showbackground": true,
            "ticks": "",
            "zerolinecolor": "white"
           }
          },
          "shapedefaults": {
           "line": {
            "color": "#2a3f5f"
           }
          },
          "ternary": {
           "aaxis": {
            "gridcolor": "white",
            "linecolor": "white",
            "ticks": ""
           },
           "baxis": {
            "gridcolor": "white",
            "linecolor": "white",
            "ticks": ""
           },
           "bgcolor": "#E5ECF6",
           "caxis": {
            "gridcolor": "white",
            "linecolor": "white",
            "ticks": ""
           }
          },
          "title": {
           "x": 0.05
          },
          "xaxis": {
           "automargin": true,
           "gridcolor": "white",
           "linecolor": "white",
           "ticks": "",
           "title": {
            "standoff": 15
           },
           "zerolinecolor": "white",
           "zerolinewidth": 2
          },
          "yaxis": {
           "automargin": true,
           "gridcolor": "white",
           "linecolor": "white",
           "ticks": "",
           "title": {
            "standoff": 15
           },
           "zerolinecolor": "white",
           "zerolinewidth": 2
          }
         }
        }
       }
      }
     },
     "metadata": {},
     "output_type": "display_data"
    }
   ],
   "source": [
    "px.scatter_geo(geocode, lat=\"lat\", lon=\"long\")"
   ]
  },
  {
   "cell_type": "markdown",
   "metadata": {},
   "source": [
    "### Observações em relação ao GeoCode\n",
    "\n",
    "- O zip-code deveria estar no formato de string ao invés de float.\n",
    "- O zip-code na etapa na descrição do endereço e bate com o da coluna\n",
    "- Alguns com ids inválidos\n",
    "- Um endereço possui só um token, extaamante aquele que possui id inválido."
   ]
  }
 ],
 "metadata": {
  "kernelspec": {
   "display_name": "Python 3.10.7 64-bit",
   "language": "python",
   "name": "python3"
  },
  "language_info": {
   "codemirror_mode": {
    "name": "ipython",
    "version": 3
   },
   "file_extension": ".py",
   "mimetype": "text/x-python",
   "name": "python",
   "nbconvert_exporter": "python",
   "pygments_lexer": "ipython3",
   "version": "3.10.7"
  },
  "orig_nbformat": 4,
  "vscode": {
   "interpreter": {
    "hash": "26de051ba29f2982a8de78e945f0abaf191376122a1563185a90213a26c5da77"
   }
  }
 },
 "nbformat": 4,
 "nbformat_minor": 2
}
